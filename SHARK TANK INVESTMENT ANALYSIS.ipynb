{
 "cells": [
  {
   "cell_type": "code",
   "execution_count": null,
   "id": "7b0852f5",
   "metadata": {},
   "outputs": [],
   "source": [
    "# importing pandas and opening the exxcel file. \n",
    "# The sheet_name argument is used to select particular sheets in the file.\n",
    "import pandas as pd\n",
    "#reading the file\n",
    "df = pd.read_excel(r\"C:\\Users\\USER\\Desktop\\work\\shark.xlsx\",sheet_name = \"Shark Tank US dataset\")\n",
    "# creating the dataframe called Sharkt.\n",
    "Sharkt = pd.DataFrame(df)\n"
   ]
  },
  {
   "cell_type": "code",
   "execution_count": 51,
   "id": "c576dfa1",
   "metadata": {},
   "outputs": [
    {
     "name": "stdout",
     "output_type": "stream",
     "text": [
      "<class 'pandas.core.frame.DataFrame'>\n",
      "RangeIndex: 1267 entries, 0 to 1266\n",
      "Data columns (total 47 columns):\n",
      " #   Column                              Non-Null Count  Dtype         \n",
      "---  ------                              --------------  -----         \n",
      " 0   Season Number                       1267 non-null   int64         \n",
      " 1   Season Start                        1267 non-null   datetime64[ns]\n",
      " 2   Season End                          1267 non-null   datetime64[ns]\n",
      " 3   Episode Number                      1267 non-null   int64         \n",
      " 4   Pitch Number                        1267 non-null   int64         \n",
      " 5   Original Air Date                   1267 non-null   datetime64[ns]\n",
      " 6   Startup Name                        1267 non-null   object        \n",
      " 7   Industry                            1267 non-null   object        \n",
      " 8   Pitchers Gender                     1267 non-null   object        \n",
      " 9   Company Website                     1267 non-null   object        \n",
      " 10  Multiple Entrepreneurs              840 non-null    float64       \n",
      " 11  US Viewership                       1267 non-null   float64       \n",
      " 12  Original Ask Amount                 1267 non-null   int64         \n",
      " 13  Original Offered Equity             1267 non-null   float64       \n",
      " 14  Valuation Requested                 1267 non-null   int64         \n",
      " 15  Got Deal                            1267 non-null   object        \n",
      " 16  Total Deal Amount                   1267 non-null   object        \n",
      " 17  Total Deal Equity                   1267 non-null   object        \n",
      " 18  Deal Valuation                      1267 non-null   object        \n",
      " 19  Number of sharks in deal            1267 non-null   object        \n",
      " 20  Investment Amount Per Shark         1267 non-null   object        \n",
      " 21  Equity Per Shark                    1267 non-null   object        \n",
      " 22  Royalty Deal                        1267 non-null   object        \n",
      " 23  Loan                                1267 non-null   object        \n",
      " 24  Barbara Corcoran Investment Amount  1267 non-null   object        \n",
      " 25  Barbara Corcoran Investment Equity  1267 non-null   object        \n",
      " 26  Mark Cuban Investment Amount        1267 non-null   object        \n",
      " 27  Mark Cuban Investment Equity        1267 non-null   object        \n",
      " 28  Lori Greiner Investment Amount      1267 non-null   object        \n",
      " 29  Lori Greiner Investment Equity      1267 non-null   object        \n",
      " 30  Robert Herjavec Investment Amount   1267 non-null   object        \n",
      " 31  Robert Herjavec Investment Equity   1267 non-null   object        \n",
      " 32  Daymond John Investment Amount      1267 non-null   object        \n",
      " 33  Daymond John Investment Equity      1267 non-null   object        \n",
      " 34  Kevin O Leary Investment Amount     1267 non-null   object        \n",
      " 35  Kevin O Leary Investment Equity     1267 non-null   object        \n",
      " 36  Guest Investment Amount             1267 non-null   object        \n",
      " 37  Guest Investment Equity             1267 non-null   object        \n",
      " 38  Barbara Corcoran Present            1267 non-null   object        \n",
      " 39  Mark Cuban Present                  1267 non-null   object        \n",
      " 40  Lori Greiner Present                1267 non-null   object        \n",
      " 41  Robert Herjavec Present             1267 non-null   object        \n",
      " 42  Daymond John Present                1267 non-null   object        \n",
      " 43  Kevin O Leary Present               1267 non-null   object        \n",
      " 44  Episode Name                        1267 non-null   object        \n",
      " 45  Release month                       1267 non-null   object        \n",
      " 46  Release year                        1267 non-null   object        \n",
      "dtypes: datetime64[ns](3), float64(3), int64(5), object(36)\n",
      "memory usage: 465.4+ KB\n"
     ]
    },
    {
     "data": {
      "text/html": [
       "<div>\n",
       "<style scoped>\n",
       "    .dataframe tbody tr th:only-of-type {\n",
       "        vertical-align: middle;\n",
       "    }\n",
       "\n",
       "    .dataframe tbody tr th {\n",
       "        vertical-align: top;\n",
       "    }\n",
       "\n",
       "    .dataframe thead th {\n",
       "        text-align: right;\n",
       "    }\n",
       "</style>\n",
       "<table border=\"1\" class=\"dataframe\">\n",
       "  <thead>\n",
       "    <tr style=\"text-align: right;\">\n",
       "      <th></th>\n",
       "      <th>Season Number</th>\n",
       "      <th>Season Start</th>\n",
       "      <th>Season End</th>\n",
       "      <th>Episode Number</th>\n",
       "      <th>Pitch Number</th>\n",
       "      <th>Original Air Date</th>\n",
       "      <th>Startup Name</th>\n",
       "      <th>Industry</th>\n",
       "      <th>Pitchers Gender</th>\n",
       "      <th>Company Website</th>\n",
       "      <th>...</th>\n",
       "      <th>Guest Investment Equity</th>\n",
       "      <th>Barbara Corcoran Present</th>\n",
       "      <th>Mark Cuban Present</th>\n",
       "      <th>Lori Greiner Present</th>\n",
       "      <th>Robert Herjavec Present</th>\n",
       "      <th>Daymond John Present</th>\n",
       "      <th>Kevin O Leary Present</th>\n",
       "      <th>Episode Name</th>\n",
       "      <th>Release month</th>\n",
       "      <th>Release year</th>\n",
       "    </tr>\n",
       "  </thead>\n",
       "  <tbody>\n",
       "    <tr>\n",
       "      <th>0</th>\n",
       "      <td>1</td>\n",
       "      <td>2009-08-09</td>\n",
       "      <td>2010-02-05</td>\n",
       "      <td>1</td>\n",
       "      <td>1</td>\n",
       "      <td>2009-08-09</td>\n",
       "      <td>AvaTheElephant</td>\n",
       "      <td>Health/Wellness</td>\n",
       "      <td>Female</td>\n",
       "      <td>http://www.avatheelephant.com/</td>\n",
       "      <td>...</td>\n",
       "      <td>Did not Invest</td>\n",
       "      <td>Present</td>\n",
       "      <td>Not present</td>\n",
       "      <td>Not present</td>\n",
       "      <td>Present</td>\n",
       "      <td>Present</td>\n",
       "      <td>Present</td>\n",
       "      <td>s1ep1</td>\n",
       "      <td>Aug</td>\n",
       "      <td>2009</td>\n",
       "    </tr>\n",
       "    <tr>\n",
       "      <th>1</th>\n",
       "      <td>1</td>\n",
       "      <td>2009-08-09</td>\n",
       "      <td>2010-02-05</td>\n",
       "      <td>1</td>\n",
       "      <td>2</td>\n",
       "      <td>2009-08-09</td>\n",
       "      <td>Mr.Tod'sPieFactory</td>\n",
       "      <td>Food and Beverage</td>\n",
       "      <td>Male</td>\n",
       "      <td>http://whybake.com/</td>\n",
       "      <td>...</td>\n",
       "      <td>Did not Invest</td>\n",
       "      <td>Present</td>\n",
       "      <td>Not present</td>\n",
       "      <td>Not present</td>\n",
       "      <td>Present</td>\n",
       "      <td>Present</td>\n",
       "      <td>Present</td>\n",
       "      <td>s1ep1</td>\n",
       "      <td>Aug</td>\n",
       "      <td>2009</td>\n",
       "    </tr>\n",
       "    <tr>\n",
       "      <th>2</th>\n",
       "      <td>1</td>\n",
       "      <td>2009-08-09</td>\n",
       "      <td>2010-02-05</td>\n",
       "      <td>1</td>\n",
       "      <td>3</td>\n",
       "      <td>2009-08-09</td>\n",
       "      <td>Wispots</td>\n",
       "      <td>Business Services</td>\n",
       "      <td>Male</td>\n",
       "      <td>http://www.wispots.com/</td>\n",
       "      <td>...</td>\n",
       "      <td>Did not Invest</td>\n",
       "      <td>Present</td>\n",
       "      <td>Not present</td>\n",
       "      <td>Not present</td>\n",
       "      <td>Present</td>\n",
       "      <td>Present</td>\n",
       "      <td>Present</td>\n",
       "      <td>s1ep1</td>\n",
       "      <td>Aug</td>\n",
       "      <td>2009</td>\n",
       "    </tr>\n",
       "    <tr>\n",
       "      <th>3</th>\n",
       "      <td>1</td>\n",
       "      <td>2009-08-09</td>\n",
       "      <td>2010-02-05</td>\n",
       "      <td>1</td>\n",
       "      <td>4</td>\n",
       "      <td>2009-08-09</td>\n",
       "      <td>CollegeFoxesPackingBoxes</td>\n",
       "      <td>Lifestyle/Home</td>\n",
       "      <td>Male</td>\n",
       "      <td>http://collegehunkshaulingjunk.com/</td>\n",
       "      <td>...</td>\n",
       "      <td>Did not Invest</td>\n",
       "      <td>Present</td>\n",
       "      <td>Not present</td>\n",
       "      <td>Not present</td>\n",
       "      <td>Present</td>\n",
       "      <td>Present</td>\n",
       "      <td>Present</td>\n",
       "      <td>s1ep1</td>\n",
       "      <td>Aug</td>\n",
       "      <td>2009</td>\n",
       "    </tr>\n",
       "    <tr>\n",
       "      <th>4</th>\n",
       "      <td>1</td>\n",
       "      <td>2009-08-09</td>\n",
       "      <td>2010-02-05</td>\n",
       "      <td>1</td>\n",
       "      <td>5</td>\n",
       "      <td>2009-08-09</td>\n",
       "      <td>IonicEar</td>\n",
       "      <td>Software/Tech</td>\n",
       "      <td>Male</td>\n",
       "      <td>No website</td>\n",
       "      <td>...</td>\n",
       "      <td>Did not Invest</td>\n",
       "      <td>Present</td>\n",
       "      <td>Not present</td>\n",
       "      <td>Not present</td>\n",
       "      <td>Present</td>\n",
       "      <td>Present</td>\n",
       "      <td>Present</td>\n",
       "      <td>s1ep1</td>\n",
       "      <td>Aug</td>\n",
       "      <td>2009</td>\n",
       "    </tr>\n",
       "  </tbody>\n",
       "</table>\n",
       "<p>5 rows × 47 columns</p>\n",
       "</div>"
      ],
      "text/plain": [
       "   Season Number Season Start Season End  Episode Number  Pitch Number  \\\n",
       "0              1   2009-08-09 2010-02-05               1             1   \n",
       "1              1   2009-08-09 2010-02-05               1             2   \n",
       "2              1   2009-08-09 2010-02-05               1             3   \n",
       "3              1   2009-08-09 2010-02-05               1             4   \n",
       "4              1   2009-08-09 2010-02-05               1             5   \n",
       "\n",
       "  Original Air Date              Startup Name           Industry  \\\n",
       "0        2009-08-09            AvaTheElephant    Health/Wellness   \n",
       "1        2009-08-09        Mr.Tod'sPieFactory  Food and Beverage   \n",
       "2        2009-08-09                   Wispots  Business Services   \n",
       "3        2009-08-09  CollegeFoxesPackingBoxes     Lifestyle/Home   \n",
       "4        2009-08-09                  IonicEar      Software/Tech   \n",
       "\n",
       "  Pitchers Gender                      Company Website  ...  \\\n",
       "0          Female       http://www.avatheelephant.com/  ...   \n",
       "1            Male                  http://whybake.com/  ...   \n",
       "2            Male              http://www.wispots.com/  ...   \n",
       "3            Male  http://collegehunkshaulingjunk.com/  ...   \n",
       "4            Male                           No website  ...   \n",
       "\n",
       "   Guest Investment Equity  Barbara Corcoran Present  Mark Cuban Present  \\\n",
       "0           Did not Invest                   Present         Not present   \n",
       "1           Did not Invest                   Present         Not present   \n",
       "2           Did not Invest                   Present         Not present   \n",
       "3           Did not Invest                   Present         Not present   \n",
       "4           Did not Invest                   Present         Not present   \n",
       "\n",
       "   Lori Greiner Present  Robert Herjavec Present Daymond John Present  \\\n",
       "0           Not present                  Present              Present   \n",
       "1           Not present                  Present              Present   \n",
       "2           Not present                  Present              Present   \n",
       "3           Not present                  Present              Present   \n",
       "4           Not present                  Present              Present   \n",
       "\n",
       "  Kevin O Leary Present Episode Name Release month Release year  \n",
       "0               Present        s1ep1           Aug         2009  \n",
       "1               Present        s1ep1           Aug         2009  \n",
       "2               Present        s1ep1           Aug         2009  \n",
       "3               Present        s1ep1           Aug         2009  \n",
       "4               Present        s1ep1           Aug         2009  \n",
       "\n",
       "[5 rows x 47 columns]"
      ]
     },
     "execution_count": 51,
     "metadata": {},
     "output_type": "execute_result"
    }
   ],
   "source": [
    "# Getting basic info on the columns, I dod this to see what columns exist and if they are in the right data type.\n",
    "Sharkt.info()\n",
    "# to get a view of the first few rows of the dataframe\n",
    "Sharkt.head()"
   ]
  },
  {
   "cell_type": "code",
   "execution_count": null,
   "id": "4d4bf378",
   "metadata": {},
   "outputs": [],
   "source": [
    "# Now we check for missing values\n",
    "print(Sharkt.isna().sum())\n",
    "# the pitchers city, pitchers state, Guest name and pitchers average age columns have more than half thier values missing\n",
    "# and are independent so they can't be deduced.\n",
    "Sharkt = Sharkt.drop(['Pitchers City','Pitchers State','Pitchers Average Age','Guest Name'], axis = 1)\n",
    "\n"
   ]
  },
  {
   "cell_type": "code",
   "execution_count": null,
   "id": "ae486385",
   "metadata": {},
   "outputs": [],
   "source": [
    "# Changing values in got deal column from 0 and 1\n",
    "Sharkt[\"Got Deal\"] = Sharkt[\"Got Deal\"].replace(0,\"NO\")\n",
    "\n",
    "Sharkt[\"Got Deal\"] = Sharkt[\"Got Deal\"].replace(1,\"YES\")\n",
    "\n"
   ]
  },
  {
   "cell_type": "code",
   "execution_count": null,
   "id": "0e996231",
   "metadata": {},
   "outputs": [],
   "source": [
    "# In the dataset when a company has no website it is left blank so we fill blanks with no website\n",
    "Sharkt[\"Company Website\"] = Sharkt[\"Company Website\"].fillna(\"No website\")\n",
    "\n",
    "\n"
   ]
  },
  {
   "cell_type": "code",
   "execution_count": null,
   "id": "8f11ec96",
   "metadata": {},
   "outputs": [],
   "source": [
    "# In the dataset when a company was not invested in it is left blank so we fill blanks with did not invest\n",
    "Sharkt[[\"Total Deal Amount\",\"Total Deal Equity\",\"Deal Valuation\",\"Number of sharks in deal\",\"Investment Amount Per Shark\",\"Equity Per Shark\"]] = Sharkt[[\"Total Deal Amount\",\"Total Deal Equity\",\"Deal Valuation\",\"Number of sharks in deal\",\"Investment Amount Per Shark\",\"Equity Per Shark\"]].fillna(\"Did not invest\")\n",
    "Sharkt[[\"Barbara Corcoran Investment Amount\",\"Barbara Corcoran Investment Equity\",\"Mark Cuban Investment Amount\",\"Mark Cuban Investment Equity\",\"Lori Greiner Investment Amount\",\"Lori Greiner Investment Equity\",\"Robert Herjavec Investment Amount\",\"Robert Herjavec Investment Equity\",\"Daymond John Investment Amount\",\"Daymond John Investment Equity\",\"Kevin O Leary Investment Amount\",\"Kevin O Leary Investment Equity\",\"Guest Investment Amount\",\"Guest Investment Equity\"]] = Sharkt[[\"Barbara Corcoran Investment Amount\",\"Barbara Corcoran Investment Equity\",\"Mark Cuban Investment Amount\",\"Mark Cuban Investment Equity\",\"Lori Greiner Investment Amount\",\"Lori Greiner Investment Equity\",\"Robert Herjavec Investment Amount\",\"Robert Herjavec Investment Equity\",\"Daymond John Investment Amount\",\"Daymond John Investment Equity\",\"Kevin O Leary Investment Amount\",\"Kevin O Leary Investment Equity\",\"Guest Investment Amount\",\"Guest Investment Equity\"]].fillna(\"Did not Invest\")\n",
    "\n",
    "\n"
   ]
  },
  {
   "cell_type": "code",
   "execution_count": null,
   "id": "0d051e86",
   "metadata": {},
   "outputs": [],
   "source": [
    "# Changing values from 0 to 1 with 1 meaning its a royalty deal and 0 meaniing advisory deal\n",
    "Sharkt[\"Royalty Deal\"] = Sharkt[\"Royalty Deal\"].replace(1,\"Royalty deal\")\n",
    "Sharkt[\"Royalty Deal\"] = Sharkt[\"Royalty Deal\"].fillna(\"Advisory deal\")\n",
    "\n"
   ]
  },
  {
   "cell_type": "code",
   "execution_count": null,
   "id": "a8099b56",
   "metadata": {},
   "outputs": [],
   "source": [
    "# If no loan was taken it is left empty\n",
    "\n",
    "Sharkt[\"Loan\"] = Sharkt[\"Loan\"].fillna(\"No loan\")\n",
    "\n",
    "\n",
    "\n"
   ]
  },
  {
   "cell_type": "code",
   "execution_count": null,
   "id": "d8919da3",
   "metadata": {},
   "outputs": [],
   "source": [
    "# Changing the values for presence of sharks from 0 and 1 to present and not\n",
    "Sharkt[[\"Barbara Corcoran Present\",\"Mark Cuban Present\",\"Lori Greiner Present\",\"Robert Herjavec Present\",\"Daymond John Present\",\"Kevin O Leary Present\"]] = Sharkt[[\"Barbara Corcoran Present\",\"Mark Cuban Present\",\"Lori Greiner Present\",\"Robert Herjavec Present\",\"Daymond John Present\",\"Kevin O Leary Present\"]].fillna(\"unknown\")\n",
    "\n",
    "Sharkt[[\"Barbara Corcoran Present\",\"Mark Cuban Present\",\"Lori Greiner Present\",\"Robert Herjavec Present\",\"Daymond John Present\",\"Kevin O Leary Present\"]] = Sharkt[[\"Barbara Corcoran Present\",\"Mark Cuban Present\",\"Lori Greiner Present\",\"Robert Herjavec Present\",\"Daymond John Present\",\"Kevin O Leary Present\"]].replace(0,\"Not present\")\n",
    "Sharkt[[\"Barbara Corcoran Present\",\"Mark Cuban Present\",\"Lori Greiner Present\",\"Robert Herjavec Present\",\"Daymond John Present\",\"Kevin O Leary Present\"]] = Sharkt[[\"Barbara Corcoran Present\",\"Mark Cuban Present\",\"Lori Greiner Present\",\"Robert Herjavec Present\",\"Daymond John Present\",\"Kevin O Leary Present\"]].replace(1,\"Present\")\n"
   ]
  },
  {
   "cell_type": "code",
   "execution_count": null,
   "id": "7682566d",
   "metadata": {},
   "outputs": [],
   "source": [
    "from IPython.display import display\n",
    "display(Sharkt)\n"
   ]
  },
  {
   "cell_type": "code",
   "execution_count": null,
   "id": "455c7d49",
   "metadata": {
    "scrolled": true
   },
   "outputs": [],
   "source": [
    "import numpy as np\n",
    "import matplotlib.pyplot as plt\n",
    "# Answering the questions\n",
    "# Average no of episodes per season.\n",
    "print(Sharkt.groupby('Season Number')[\"Episode Name\"].nunique().mean())"
   ]
  },
  {
   "cell_type": "code",
   "execution_count": null,
   "id": "18739842",
   "metadata": {},
   "outputs": [],
   "source": [
    "Sharkt['Episode Name'] = 's' + Sharkt['Season Number'].astype(str) + 'ep' + Sharkt['Episode Number'].astype(str)"
   ]
  },
  {
   "cell_type": "code",
   "execution_count": null,
   "id": "e93996b6",
   "metadata": {},
   "outputs": [],
   "source": [
    "print(Sharkt['Episode Name'])"
   ]
  },
  {
   "cell_type": "code",
   "execution_count": null,
   "id": "7da6a9a2",
   "metadata": {},
   "outputs": [],
   "source": [
    "Sharkt['Release month'] = Sharkt[\"Original Air Date\"].dt.strftime('%b')"
   ]
  },
  {
   "cell_type": "code",
   "execution_count": null,
   "id": "62e3b2f9",
   "metadata": {},
   "outputs": [],
   "source": [
    "print(Sharkt['Release month'])"
   ]
  },
  {
   "cell_type": "code",
   "execution_count": null,
   "id": "c353f00a",
   "metadata": {},
   "outputs": [],
   "source": [
    "# How many episodes per season\n",
    "import matplotlib.pyplot as plt"
   ]
  },
  {
   "cell_type": "code",
   "execution_count": null,
   "id": "78fb7520",
   "metadata": {},
   "outputs": [],
   "source": [
    "unique_episodes_per_season = Sharkt.groupby('Season Number')['Episode Name'].nunique()\n",
    "print(unique_episodes_per_season)\n",
    "ep_per_season_labels = list(unique_episodes_per_season)"
   ]
  },
  {
   "cell_type": "code",
   "execution_count": null,
   "id": "01a81ae1",
   "metadata": {},
   "outputs": [],
   "source": [
    "unique_episodes_per_season.plot(kind = 'bar',color='brown')\n",
    "for season, label in enumerate(ep_per_season_labels):\n",
    "    plt.text(season, ep_per_season_labels[season], label, ha='center', va = \"bottom\")\n",
    "plt.title(\"NO OF EPISODES PER SEASON\",fontweight='bold',color='brown')\n",
    "plt.xlabel('Season number')\n",
    "plt.ylabel('No of episodes')"
   ]
  },
  {
   "cell_type": "code",
   "execution_count": null,
   "id": "5083aa76",
   "metadata": {},
   "outputs": [],
   "source": [
    "# next we find the episode with thee most views"
   ]
  },
  {
   "cell_type": "code",
   "execution_count": null,
   "id": "c66ca77a",
   "metadata": {},
   "outputs": [],
   "source": [
    "max_views = Sharkt.loc[Sharkt['US Viewership'].idxmax()]['US Viewership']\n",
    "max_views_episode = Sharkt.loc[Sharkt['US Viewership'].idxmax()]['Episode Name']\n",
    "print('The episode with the most views is: ' + max_views_episode.upper() + ' with ' + str(max_views) + ' million views')"
   ]
  },
  {
   "cell_type": "code",
   "execution_count": null,
   "id": "903bc5f0",
   "metadata": {},
   "outputs": [],
   "source": [
    "# next we find the season with the most views"
   ]
  },
  {
   "cell_type": "code",
   "execution_count": null,
   "id": "372b3f75",
   "metadata": {},
   "outputs": [],
   "source": [
    "# creates a dataframe with only unique episode values and the corresponding views.\n",
    "Sharkt_unique_episodes = Sharkt.drop_duplicates(subset = \"Episode Name\")\n",
    "max_seasonal_views = Sharkt_unique_episodes.groupby('Season Number')['US Viewership'].sum()\n",
    "print(max_seasonal_views)\n",
    "print(max_seasonal_views.loc[max_seasonal_views== max_seasonal_views.max()])"
   ]
  },
  {
   "cell_type": "code",
   "execution_count": null,
   "id": "f0089d8d",
   "metadata": {},
   "outputs": [],
   "source": [
    "# Line chart monitoring number of views by year"
   ]
  },
  {
   "cell_type": "code",
   "execution_count": null,
   "id": "ac4f8b5d",
   "metadata": {},
   "outputs": [],
   "source": [
    "Sharkt['Release year'] = Sharkt['Original Air Date'].dt.strftime('%Y')"
   ]
  },
  {
   "cell_type": "code",
   "execution_count": null,
   "id": "56b6ffd4",
   "metadata": {},
   "outputs": [],
   "source": [
    "print(Sharkt['Release year'])"
   ]
  },
  {
   "cell_type": "code",
   "execution_count": null,
   "id": "db85842c",
   "metadata": {},
   "outputs": [],
   "source": [
    "unique_sharkt = Sharkt.drop_duplicates(subset = 'Episode Name')"
   ]
  },
  {
   "cell_type": "code",
   "execution_count": null,
   "id": "04778c53",
   "metadata": {},
   "outputs": [],
   "source": [
    "print(unique_sharkt)"
   ]
  },
  {
   "cell_type": "code",
   "execution_count": null,
   "id": "9093ab91",
   "metadata": {
    "scrolled": true
   },
   "outputs": [],
   "source": [
    "Views_by_time = unique_sharkt.groupby('Release year')['US Viewership'].sum()\n",
    "views_per_year_labels = list(Views_by_time) \n",
    "print(Views_by_time)"
   ]
  },
  {
   "cell_type": "code",
   "execution_count": null,
   "id": "80ed8ba1",
   "metadata": {},
   "outputs": [],
   "source": [
    "Views_by_time.plot(kind = 'line', color ='brown',marker ='o',alpha = 0.7)\n",
    " \n",
    "plt.ylabel(\"No of views in million\")\n",
    "plt.title(\"No of views yearly\",fontweight='bold')\n",
    "plt.grid(True)\n",
    "for i, labelz in enumerate(views_per_year_labels):\n",
    "    x = i  # Use the index for x-coordinate\n",
    "    y = Views_by_time[i]   # Use the 'Y' column for y-coordinate\n",
    "    plt.text(x, y, labelz, ha='left', va='bottom',color='red',fontweight='bold')\n",
    "plt.figure(figsize=(20, 10))\n",
    "plt.show()"
   ]
  },
  {
   "cell_type": "code",
   "execution_count": 87,
   "id": "5e4975b1",
   "metadata": {
    "scrolled": true
   },
   "outputs": [
    {
     "data": {
      "text/plain": [
       "<Figure size 800x600 with 0 Axes>"
      ]
     },
     "execution_count": 87,
     "metadata": {},
     "output_type": "execute_result"
    },
    {
     "data": {
      "text/plain": [
       "<Figure size 800x600 with 0 Axes>"
      ]
     },
     "metadata": {},
     "output_type": "display_data"
    }
   ],
   "source": [
    "#pitcher gender distribution\n",
    "gender_split = Sharkt.groupby('Pitchers Gender')['Pitchers Gender'].count()\n",
    "gender_split_labels = list(gender_split)\n",
    "plt.figure(figsize=(8, 6))"
   ]
  },
  {
   "cell_type": "code",
   "execution_count": 145,
   "id": "b6d1f1d6",
   "metadata": {},
   "outputs": [
    {
     "data": {
      "text/plain": [
       "<Figure size 800x600 with 0 Axes>"
      ]
     },
     "execution_count": 145,
     "metadata": {},
     "output_type": "execute_result"
    },
    {
     "data": {
      "image/png": "[encoded data removed]",
      "text/plain": [
       "<Figure size 640x480 with 1 Axes>"
      ]
     },
     "metadata": {},
     "output_type": "display_data"
    },
    {
     "data": {
      "text/plain": [
       "<Figure size 800x600 with 0 Axes>"
      ]
     },
     "metadata": {},
     "output_type": "display_data"
    }
   ],
   "source": [
    "#job industry distribution\n",
    "gend = gender_split.plot(kind='bar',color='brown')\n",
    "plt.title(\"Gender split of pitchers\",fontweight='bold')\n",
    "plt.ylabel(\"No of pitchers\")\n",
    "for i,v in enumerate(gender_split):\n",
    "    plt.text(i,v,str(v),ha='center',va='bottom',color='red')\n",
    "plt.xticks(rotation=0)\n",
    "plt.xlabel(None)\n",
    "plt.figure(figsize = (8,6))"
   ]
  },
  {
   "cell_type": "code",
   "execution_count": 175,
   "id": "7302c89b",
   "metadata": {},
   "outputs": [],
   "source": [
    "# TOP 5 JOB INDUSTRY\n",
    "top_5_industries = Sharkt[\"Industry\"].value_counts().nlargest(5)"
   ]
  },
  {
   "cell_type": "code",
   "execution_count": 176,
   "id": "3dda170d",
   "metadata": {},
   "outputs": [
    {
     "name": "stdout",
     "output_type": "stream",
     "text": [
      "Food and Beverage          274\n",
      "Lifestyle/Home             225\n",
      "Fashion/Beauty             217\n",
      "Children/Education         117\n",
      "Fitness/Sports/Outdoors    113\n",
      "Name: Industry, dtype: int64\n"
     ]
    }
   ],
   "source": [
    "print(top_5_industries)"
   ]
  },
  {
   "cell_type": "code",
   "execution_count": 177,
   "id": "5c3dd84f",
   "metadata": {},
   "outputs": [
    {
     "data": {
      "text/plain": [
       "(-1.101061654256188,\n",
       " 1.1010333164629922,\n",
       " -1.1015376188334232,\n",
       " 1.1104677059480466)"
      ]
     },
     "execution_count": 177,
     "metadata": {},
     "output_type": "execute_result"
    },
    {
     "data": {
      "image/png": "[encoded data removed]",
      "text/plain": [
       "<Figure size 640x480 with 1 Axes>"
      ]
     },
     "metadata": {},
     "output_type": "display_data"
    }
   ],
   "source": [
    "colors = [\"firebrick\",\"maroon\",\"pink\",\"red\",\"indianred\"]\n",
    "explode = [0.01,0.001,0.001,0.001,0.001]\n",
    "labels = [\"Food and Beverage\",\"Lifestyle/Home\",\"Fashion/Beauty\",\"Children/Education\",\"Fitness/Sports/Outdoors\"]\n",
    "pie = top_5_industries.plot(kind='pie',colors=colors,autopct = \"%1.1f%%\",startangle=45,explode=explode,legend=False,labels=labels)\n",
    "pie.legend().set_visible(False)\n",
    "plt.title(\"TOP 5 JOB INDUSTRIES\",fontweight='bold')\n",
    "plt.axis('equal')"
   ]
  },
  {
   "cell_type": "code",
   "execution_count": 205,
   "id": "77fb6e4b",
   "metadata": {},
   "outputs": [
    {
     "ename": "ValueError",
     "evalue": "The truth value of a Series is ambiguous. Use a.empty, a.bool(), a.item(), a.any() or a.all().",
     "output_type": "error",
     "traceback": [
      "\u001b[1;31m---------------------------------------------------------------------------\u001b[0m",
      "\u001b[1;31mValueError\u001b[0m                                Traceback (most recent call last)",
      "Cell \u001b[1;32mIn[205], line 1\u001b[0m\n\u001b[1;32m----> 1\u001b[0m Sharkt\u001b[38;5;241m.\u001b[39mloc[(Sharkt[\u001b[38;5;124m'\u001b[39m\u001b[38;5;124mIndustry\u001b[39m\u001b[38;5;124m'\u001b[39m]\u001b[38;5;241m==\u001b[39m\u001b[38;5;124m'\u001b[39m\u001b[38;5;124mFood and Beverage\u001b[39m\u001b[38;5;124m'\u001b[39m \u001b[38;5;129;01mor\u001b[39;00m \u001b[38;5;124m'\u001b[39m\u001b[38;5;124mLifestyle/Home\u001b[39m\u001b[38;5;124m'\u001b[39m \u001b[38;5;129;01mor\u001b[39;00m \u001b[38;5;124m'\u001b[39m\u001b[38;5;124mFashion/Beauty\u001b[39m\u001b[38;5;124m'\u001b[39m \u001b[38;5;129;01mor\u001b[39;00m \u001b[38;5;124m'\u001b[39m\u001b[38;5;124mChildren/Education\u001b[39m\u001b[38;5;124m'\u001b[39m \u001b[38;5;129;01mor\u001b[39;00m \u001b[38;5;124m'\u001b[39m\u001b[38;5;124mFitness/Sports/Outdoors\u001b[39m\u001b[38;5;124m'\u001b[39m),[\u001b[38;5;124m'\u001b[39m\u001b[38;5;124mIndustry\u001b[39m\u001b[38;5;124m'\u001b[39m,\u001b[38;5;124m'\u001b[39m\u001b[38;5;124mPitchers Gender\u001b[39m\u001b[38;5;124m'\u001b[39m]]\n",
      "File \u001b[1;32m~\\anaconda3\\lib\\site-packages\\pandas\\core\\generic.py:1527\u001b[0m, in \u001b[0;36mNDFrame.__nonzero__\u001b[1;34m(self)\u001b[0m\n\u001b[0;32m   1525\u001b[0m \u001b[38;5;129m@final\u001b[39m\n\u001b[0;32m   1526\u001b[0m \u001b[38;5;28;01mdef\u001b[39;00m \u001b[38;5;21m__nonzero__\u001b[39m(\u001b[38;5;28mself\u001b[39m) \u001b[38;5;241m-\u001b[39m\u001b[38;5;241m>\u001b[39m NoReturn:\n\u001b[1;32m-> 1527\u001b[0m     \u001b[38;5;28;01mraise\u001b[39;00m \u001b[38;5;167;01mValueError\u001b[39;00m(\n\u001b[0;32m   1528\u001b[0m         \u001b[38;5;124mf\u001b[39m\u001b[38;5;124m\"\u001b[39m\u001b[38;5;124mThe truth value of a \u001b[39m\u001b[38;5;132;01m{\u001b[39;00m\u001b[38;5;28mtype\u001b[39m(\u001b[38;5;28mself\u001b[39m)\u001b[38;5;241m.\u001b[39m\u001b[38;5;18m__name__\u001b[39m\u001b[38;5;132;01m}\u001b[39;00m\u001b[38;5;124m is ambiguous. \u001b[39m\u001b[38;5;124m\"\u001b[39m\n\u001b[0;32m   1529\u001b[0m         \u001b[38;5;124m\"\u001b[39m\u001b[38;5;124mUse a.empty, a.bool(), a.item(), a.any() or a.all().\u001b[39m\u001b[38;5;124m\"\u001b[39m\n\u001b[0;32m   1530\u001b[0m     )\n",
      "\u001b[1;31mValueError\u001b[0m: The truth value of a Series is ambiguous. Use a.empty, a.bool(), a.item(), a.any() or a.all()."
     ]
    }
   ],
   "source": [
    "Sharkt.loc[(Sharkt['Industry']=='Food and Beverage' or 'Lifestyle/Home' or 'Fashion/Beauty' or 'Children/Education' or 'Fitness/Sports/Outdoors'),['Industry','Pitchers Gender']]"
   ]
  },
  {
   "cell_type": "code",
   "execution_count": 190,
   "id": "5735a3be",
   "metadata": {},
   "outputs": [
    {
     "data": {
      "text/html": [
       "<div>\n",
       "<style scoped>\n",
       "    .dataframe tbody tr th:only-of-type {\n",
       "        vertical-align: middle;\n",
       "    }\n",
       "\n",
       "    .dataframe tbody tr th {\n",
       "        vertical-align: top;\n",
       "    }\n",
       "\n",
       "    .dataframe thead th {\n",
       "        text-align: right;\n",
       "    }\n",
       "</style>\n",
       "<table border=\"1\" class=\"dataframe\">\n",
       "  <thead>\n",
       "    <tr style=\"text-align: right;\">\n",
       "      <th></th>\n",
       "      <th>Industry</th>\n",
       "    </tr>\n",
       "  </thead>\n",
       "  <tbody>\n",
       "    <tr>\n",
       "      <th>Food and Beverage</th>\n",
       "      <td>274</td>\n",
       "    </tr>\n",
       "    <tr>\n",
       "      <th>Lifestyle/Home</th>\n",
       "      <td>225</td>\n",
       "    </tr>\n",
       "    <tr>\n",
       "      <th>Fashion/Beauty</th>\n",
       "      <td>217</td>\n",
       "    </tr>\n",
       "    <tr>\n",
       "      <th>Children/Education</th>\n",
       "      <td>117</td>\n",
       "    </tr>\n",
       "    <tr>\n",
       "      <th>Fitness/Sports/Outdoors</th>\n",
       "      <td>113</td>\n",
       "    </tr>\n",
       "  </tbody>\n",
       "</table>\n",
       "</div>"
      ],
      "text/plain": [
       "                         Industry\n",
       "Food and Beverage             274\n",
       "Lifestyle/Home                225\n",
       "Fashion/Beauty                217\n",
       "Children/Education            117\n",
       "Fitness/Sports/Outdoors       113"
      ]
     },
     "execution_count": 190,
     "metadata": {},
     "output_type": "execute_result"
    }
   ],
   "source": [
    "f.head()"
   ]
  },
  {
   "cell_type": "code",
   "execution_count": null,
   "id": "f460c46b",
   "metadata": {},
   "outputs": [],
   "source": []
  }
 ],
 "metadata": {
  "kernelspec": {
   "display_name": "Python 3 (ipykernel)",
   "language": "python",
   "name": "python3"
  },
  "language_info": {
   "codemirror_mode": {
    "name": "ipython",
    "version": 3
   },
   "file_extension": ".py",
   "mimetype": "text/x-python",
   "name": "python",
   "nbconvert_exporter": "python",
   "pygments_lexer": "ipython3",
   "version": "3.10.9"
  }
 },
 "nbformat": 4,
 "nbformat_minor": 5
}
